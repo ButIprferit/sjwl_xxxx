{
 "cells": [
  {
   "cell_type": "code",
   "execution_count": 1,
   "metadata": {
    "_cell_guid": "b1076dfc-b9ad-4769-8c92-a6c4dae69d19",
    "_uuid": "8f2839f25d086af736a60e9eeb907d3b93b6e0e5"
   },
   "outputs": [
    {
     "name": "stderr",
     "output_type": "stream",
     "text": [
      "Using TensorFlow backend.\n"
     ]
    }
   ],
   "source": [
    "# This Python 3 environment comes with many helpful analytics libraries installed\n",
    "# It is defined by the kaggle/python docker image: https://github.com/kaggle/docker-python\n",
    "# For example, here's several helpful packages to load in \n",
    "\n",
    "import numpy as np # linear algebra\n",
    "import pandas as pd # data processing, CSV file I/O (e.g. pd.read_csv)\n",
    "\n",
    "# Input data files are available in the \"../input/\" directory.\n",
    "# For example, running this (by clicking run or pressing Shift+Enter) will list the files in the input directory\n",
    "\n",
    "import os\n",
    "import cv2\n",
    "import os\n",
    "os.environ[\"CUDA_VISIBLE_DEVICES\"]='1'\n",
    "import tensorflow as tf\n",
    "from keras.backend.tensorflow_backend import set_session\n",
    "config = tf.ConfigProto()\n",
    "config.gpu_options.per_process_gpu_memory_fraction = 0.4\n",
    "set_session(tf.Session(config=config))\n",
    "\n",
    "import json\n",
    "from tqdm import tqdm, tqdm_notebook\n",
    "from keras.models import Sequential\n",
    "from keras.layers import Dense, Flatten, Activation\n",
    "from keras.layers import Dropout\n",
    "from keras.layers.convolutional import Conv2D, MaxPooling2D\n",
    "from keras.utils import np_utils\n",
    "from keras.optimizers import SGD\n",
    "from keras.preprocessing import image\n",
    "from keras.preprocessing.image import ImageDataGenerator\n",
    "from keras.applications import VGG16\n",
    "import matplotlib.pyplot as plt\n",
    "\n",
    "# Any results you write to the current directory are saved as output."
   ]
  },
  {
   "cell_type": "code",
   "execution_count": 2,
   "metadata": {
    "_cell_guid": "79c7e3d0-c299-4dcb-8224-4455121ee9b0",
    "_uuid": "d629ff2d2480ee46fbb7e2d37f6b5fab8052498a"
   },
   "outputs": [
    {
     "name": "stdout",
     "output_type": "stream",
     "text": [
      "196086\n",
      "(196299, 11)\n",
      "153730\n",
      "(153730, 10)\n"
     ]
    }
   ],
   "source": [
    "dataset_dir='/Disk4/xkp/dataset/iwilddata'\n",
    "root_dir='/Disk4/xkp/project/iwild'\n",
    "train_images_dir=dataset_dir+'/train_images'\n",
    "train_csv_path=dataset_dir+'/train.csv'\n",
    "test_images_dir=dataset_dir+'/test_images'\n",
    "test_csv_path=dataset_dir+'/test.csv'\n",
    "train_l=os.listdir(train_images_dir)\n",
    "print(len(train_l))\n",
    "train_df = pd.read_csv(train_csv_path,dtype = {'category_id': str})\n",
    "print(train_df.shape)\n",
    "\n",
    "test_l=os.listdir(test_images_dir)\n",
    "print(len(test_l))\n",
    "test_df = pd.read_csv(test_csv_path)\n",
    "print(test_df.shape)"
   ]
  },
  {
   "cell_type": "code",
   "execution_count": 3,
   "metadata": {},
   "outputs": [
    {
     "name": "stdout",
     "output_type": "stream",
     "text": [
      "int64\n"
     ]
    },
    {
     "data": {
      "text/plain": [
       "<matplotlib.axes._subplots.AxesSubplot at 0x7fce941c3cf8>"
      ]
     },
     "execution_count": 3,
     "metadata": {},
     "output_type": "execute_result"
    },
    {
     "data": {
      "image/png": "[encoded data removed]",
      "text/plain": [
       "<Figure size 432x288 with 1 Axes>"
      ]
     },
     "metadata": {
      "needs_background": "light"
     },
     "output_type": "display_data"
    }
   ],
   "source": [
    "train_df.describe()\n",
    "import matplotlib.pyplot as plt\n",
    "train_df['category_id'] = train_df['category_id'].astype(str)\n",
    "h=train_df['category_id'].value_counts()\n",
    "\n",
    "print(h.dtypes)\n",
    "\n",
    "h.plot(kind='bar')"
   ]
  },
  {
   "cell_type": "markdown",
   "metadata": {},
   "source": [
    "## This is distribuation of classes for trainset\n",
    "### the train.csv contain (196299, 11) \n",
    "### the train_images contain 196086 images\n"
   ]
  },
  {
   "cell_type": "code",
   "execution_count": 4,
   "metadata": {},
   "outputs": [
    {
     "data": {
      "text/html": [
       "<div>\n",
       "<style scoped>\n",
       "    .dataframe tbody tr th:only-of-type {\n",
       "        vertical-align: middle;\n",
       "    }\n",
       "\n",
       "    .dataframe tbody tr th {\n",
       "        vertical-align: top;\n",
       "    }\n",
       "\n",
       "    .dataframe thead th {\n",
       "        text-align: right;\n",
       "    }\n",
       "</style>\n",
       "<table border=\"1\" class=\"dataframe\">\n",
       "  <thead>\n",
       "    <tr style=\"text-align: right;\">\n",
       "      <th></th>\n",
       "      <th>frame_num</th>\n",
       "      <th>location</th>\n",
       "      <th>seq_num_frames</th>\n",
       "      <th>width</th>\n",
       "      <th>height</th>\n",
       "    </tr>\n",
       "  </thead>\n",
       "  <tbody>\n",
       "    <tr>\n",
       "      <th>count</th>\n",
       "      <td>153730.000000</td>\n",
       "      <td>153730.000000</td>\n",
       "      <td>153730.000000</td>\n",
       "      <td>153730.0</td>\n",
       "      <td>153730.000000</td>\n",
       "    </tr>\n",
       "    <tr>\n",
       "      <th>mean</th>\n",
       "      <td>5.104703</td>\n",
       "      <td>49.227685</td>\n",
       "      <td>9.195915</td>\n",
       "      <td>1024.0</td>\n",
       "      <td>586.839856</td>\n",
       "    </tr>\n",
       "    <tr>\n",
       "      <th>std</th>\n",
       "      <td>6.441114</td>\n",
       "      <td>27.700477</td>\n",
       "      <td>10.155779</td>\n",
       "      <td>0.0</td>\n",
       "      <td>64.423581</td>\n",
       "    </tr>\n",
       "    <tr>\n",
       "      <th>min</th>\n",
       "      <td>1.000000</td>\n",
       "      <td>0.000000</td>\n",
       "      <td>1.000000</td>\n",
       "      <td>1024.0</td>\n",
       "      <td>544.000000</td>\n",
       "    </tr>\n",
       "    <tr>\n",
       "      <th>25%</th>\n",
       "      <td>1.000000</td>\n",
       "      <td>24.000000</td>\n",
       "      <td>3.000000</td>\n",
       "      <td>1024.0</td>\n",
       "      <td>544.000000</td>\n",
       "    </tr>\n",
       "    <tr>\n",
       "      <th>50%</th>\n",
       "      <td>3.000000</td>\n",
       "      <td>50.000000</td>\n",
       "      <td>6.000000</td>\n",
       "      <td>1024.0</td>\n",
       "      <td>544.000000</td>\n",
       "    </tr>\n",
       "    <tr>\n",
       "      <th>75%</th>\n",
       "      <td>6.000000</td>\n",
       "      <td>74.000000</td>\n",
       "      <td>12.000000</td>\n",
       "      <td>1024.0</td>\n",
       "      <td>645.000000</td>\n",
       "    </tr>\n",
       "    <tr>\n",
       "      <th>max</th>\n",
       "      <td>95.000000</td>\n",
       "      <td>99.000000</td>\n",
       "      <td>95.000000</td>\n",
       "      <td>1024.0</td>\n",
       "      <td>726.000000</td>\n",
       "    </tr>\n",
       "  </tbody>\n",
       "</table>\n",
       "</div>"
      ],
      "text/plain": [
       "           frame_num       location  seq_num_frames     width         height\n",
       "count  153730.000000  153730.000000   153730.000000  153730.0  153730.000000\n",
       "mean        5.104703      49.227685        9.195915    1024.0     586.839856\n",
       "std         6.441114      27.700477       10.155779       0.0      64.423581\n",
       "min         1.000000       0.000000        1.000000    1024.0     544.000000\n",
       "25%         1.000000      24.000000        3.000000    1024.0     544.000000\n",
       "50%         3.000000      50.000000        6.000000    1024.0     544.000000\n",
       "75%         6.000000      74.000000       12.000000    1024.0     645.000000\n",
       "max        95.000000      99.000000       95.000000    1024.0     726.000000"
      ]
     },
     "execution_count": 4,
     "metadata": {},
     "output_type": "execute_result"
    }
   ],
   "source": [
    "test_df.head()\n",
    "test_df.describe()\n",
    "\n",
    "# h_t=test_df['category_id'].value_counts()\n",
    "# print(h_t.dtypes)\n",
    "# h_t.plot(kind='bar')"
   ]
  },
  {
   "cell_type": "code",
   "execution_count": 5,
   "metadata": {},
   "outputs": [
    {
     "data": {
      "text/html": [
       "<div>\n",
       "<style scoped>\n",
       "    .dataframe tbody tr th:only-of-type {\n",
       "        vertical-align: middle;\n",
       "    }\n",
       "\n",
       "    .dataframe tbody tr th {\n",
       "        vertical-align: top;\n",
       "    }\n",
       "\n",
       "    .dataframe thead th {\n",
       "        text-align: right;\n",
       "    }\n",
       "</style>\n",
       "<table border=\"1\" class=\"dataframe\">\n",
       "  <thead>\n",
       "    <tr style=\"text-align: right;\">\n",
       "      <th></th>\n",
       "      <th>frame_num</th>\n",
       "      <th>location</th>\n",
       "      <th>seq_num_frames</th>\n",
       "      <th>width</th>\n",
       "      <th>height</th>\n",
       "    </tr>\n",
       "  </thead>\n",
       "  <tbody>\n",
       "    <tr>\n",
       "      <th>count</th>\n",
       "      <td>196299.000000</td>\n",
       "      <td>196299.00000</td>\n",
       "      <td>196299.000000</td>\n",
       "      <td>196299.0</td>\n",
       "      <td>196299.000000</td>\n",
       "    </tr>\n",
       "    <tr>\n",
       "      <th>mean</th>\n",
       "      <td>1.404047</td>\n",
       "      <td>65.83003</td>\n",
       "      <td>1.793494</td>\n",
       "      <td>1024.0</td>\n",
       "      <td>747.486600</td>\n",
       "    </tr>\n",
       "    <tr>\n",
       "      <th>std</th>\n",
       "      <td>0.739637</td>\n",
       "      <td>34.35272</td>\n",
       "      <td>1.026838</td>\n",
       "      <td>0.0</td>\n",
       "      <td>3.128948</td>\n",
       "    </tr>\n",
       "    <tr>\n",
       "      <th>min</th>\n",
       "      <td>1.000000</td>\n",
       "      <td>0.00000</td>\n",
       "      <td>1.000000</td>\n",
       "      <td>1024.0</td>\n",
       "      <td>747.000000</td>\n",
       "    </tr>\n",
       "    <tr>\n",
       "      <th>25%</th>\n",
       "      <td>1.000000</td>\n",
       "      <td>30.00000</td>\n",
       "      <td>1.000000</td>\n",
       "      <td>1024.0</td>\n",
       "      <td>747.000000</td>\n",
       "    </tr>\n",
       "    <tr>\n",
       "      <th>50%</th>\n",
       "      <td>1.000000</td>\n",
       "      <td>70.00000</td>\n",
       "      <td>1.000000</td>\n",
       "      <td>1024.0</td>\n",
       "      <td>747.000000</td>\n",
       "    </tr>\n",
       "    <tr>\n",
       "      <th>75%</th>\n",
       "      <td>2.000000</td>\n",
       "      <td>96.00000</td>\n",
       "      <td>3.000000</td>\n",
       "      <td>1024.0</td>\n",
       "      <td>747.000000</td>\n",
       "    </tr>\n",
       "    <tr>\n",
       "      <th>max</th>\n",
       "      <td>5.000000</td>\n",
       "      <td>138.00000</td>\n",
       "      <td>5.000000</td>\n",
       "      <td>1024.0</td>\n",
       "      <td>768.000000</td>\n",
       "    </tr>\n",
       "  </tbody>\n",
       "</table>\n",
       "</div>"
      ],
      "text/plain": [
       "           frame_num      location  seq_num_frames     width         height\n",
       "count  196299.000000  196299.00000   196299.000000  196299.0  196299.000000\n",
       "mean        1.404047      65.83003        1.793494    1024.0     747.486600\n",
       "std         0.739637      34.35272        1.026838       0.0       3.128948\n",
       "min         1.000000       0.00000        1.000000    1024.0     747.000000\n",
       "25%         1.000000      30.00000        1.000000    1024.0     747.000000\n",
       "50%         1.000000      70.00000        1.000000    1024.0     747.000000\n",
       "75%         2.000000      96.00000        3.000000    1024.0     747.000000\n",
       "max         5.000000     138.00000        5.000000    1024.0     768.000000"
      ]
     },
     "execution_count": 5,
     "metadata": {},
     "output_type": "execute_result"
    }
   ],
   "source": [
    "train_df.head()\n",
    "train_df.describe()"
   ]
  },
  {
   "cell_type": "code",
   "execution_count": 6,
   "metadata": {},
   "outputs": [
    {
     "name": "stdout",
     "output_type": "stream",
     "text": [
      "Found 176478 images belonging to 14 classes.\n",
      "Found 19608 images belonging to 14 classes.\n"
     ]
    }
   ],
   "source": [
    "img_h,img_w=762//2,1024//2\n",
    "batch_size=16\n",
    "datagen = ImageDataGenerator(\n",
    "#     zca_whitening=True,\n",
    "    rotation_range=40,\n",
    "    width_shift_range=0.2,\n",
    "    height_shift_range=0.2,\n",
    "    shear_range=0.2,\n",
    "    zoom_range=0.2,\n",
    "    fill_mode='nearest',\n",
    "    cval=0.0,\n",
    "    horizontal_flip=True,\n",
    "    vertical_flip=False,\n",
    "    rescale=1.0/255.0,\n",
    "    preprocessing_function=None,\n",
    "    validation_split=0.1)\n",
    "\n",
    "train_gen=datagen.flow_from_dataframe(\n",
    "        dataframe = train_df,        \n",
    "        directory = train_images_dir,\n",
    "        x_col = 'file_name', y_col = 'category_id',\n",
    "        target_size=(img_h,img_w),\n",
    "        batch_size=batch_size,\n",
    "        class_mode='categorical',\n",
    "        subset='training')\n",
    "val_gen=datagen.flow_from_dataframe(\n",
    "        dataframe = train_df,        \n",
    "        directory = train_images_dir,\n",
    "        x_col = 'file_name', y_col = 'category_id',\n",
    "        target_size=(img_h,img_w),\n",
    "        batch_size=batch_size,\n",
    "        class_mode='categorical',\n",
    "        subset='validation')\n"
   ]
  },
  {
   "cell_type": "code",
   "execution_count": 7,
   "metadata": {},
   "outputs": [
    {
     "data": {
      "text/plain": [
       "{'0', '1', '10', '11', '13', '14', '16', '17', '18', '19', '22', '3', '4', '8'}"
      ]
     },
     "execution_count": 7,
     "metadata": {},
     "output_type": "execute_result"
    }
   ],
   "source": [
    "set(train_gen.class_indices)"
   ]
  },
  {
   "cell_type": "code",
   "execution_count": 8,
   "metadata": {},
   "outputs": [],
   "source": [
    "nb_classes = 14"
   ]
  },
  {
   "cell_type": "code",
   "execution_count": 9,
   "metadata": {},
   "outputs": [],
   "source": [
    "from keras.applications.xception import Xception\n",
    "from keras.callbacks import ModelCheckpoint,EarlyStopping,CSVLogger"
   ]
  },
  {
   "cell_type": "code",
   "execution_count": null,
   "metadata": {},
   "outputs": [],
   "source": [
    "modelname='Xception'\n",
    "modeldir=os.path.join(root_dir,modelname)"
   ]
  },
  {
   "cell_type": "code",
   "execution_count": 10,
   "metadata": {},
   "outputs": [],
   "source": [
    "xception_model=Xception(include_top=False,\n",
    "                  weights='imagenet', \n",
    "                  input_tensor=None, \n",
    "                  input_shape=(img_h,img_w,3),\n",
    "                  pooling='max',\n",
    "                  classes=1000)\n",
    "xception_model.trainable=False"
   ]
  },
  {
   "cell_type": "code",
   "execution_count": 11,
   "metadata": {},
   "outputs": [],
   "source": [
    "# # if not os.path.exists('cooper_xkp'):\n",
    "# #     os.mkdir('cooper_xkp/')\n",
    "# print(os.listdir('cooper_xkp/'))\n",
    "\n",
    "# with open('cooper_xkp/test.txt','w') as f:\n",
    "#     f.writelines('fasdfadfasdfasfdasfdadf')\n",
    "# with open('cooper_xkp/test.txt','r') as f:\n",
    "#     for line in f:\n",
    "#         print(line)"
   ]
  },
  {
   "cell_type": "code",
   "execution_count": 13,
   "metadata": {},
   "outputs": [],
   "source": [
    "model=Sequential()\n",
    "model.add(xception_model)\n",
    "model.add(Dropout(0.3))\n",
    "model.add(Dense(512,activation='relu',name='dense2048-512'))\n",
    "model.add(Dropout(0.5))\n",
    "model.add(Dense(128,activation='relu',name='dense512-128'))\n",
    "model.add(Dense(nb_classes,activation='softmax',name='out'))\n",
    "sgd=SGD(lr=0.001,decay=1e-4,momentum=0.9,nesterov=True)\n",
    "from keras.optimizers import Adam\n",
    "adam=Adam(lr=0.001,decay=0.0001)\n",
    "log_dir='log'\n",
    "if not os.path.exists(log_dir):\n",
    "    os.mkdir(log_dir)\n",
    "modelcheck=ModelCheckpoint(filepath=modeldir+'/best-model.hdf5',monitor='val_loss',save_best_only=True,save_weights_only=True)\n",
    "csvlog=CSVLogger(filename=modeldir+'/csv_path.csv',separator=',',append=True)\n",
    "earstop=EarlyStopping(patience=15,monitor='val_loss')\n",
    "\n"
   ]
  },
  {
   "cell_type": "code",
   "execution_count": 14,
   "metadata": {},
   "outputs": [
    {
     "name": "stdout",
     "output_type": "stream",
     "text": [
      "_________________________________________________________________\n",
      "Layer (type)                 Output Shape              Param #   \n",
      "=================================================================\n",
      "xception (Model)             (None, 2048)              20861480  \n",
      "_________________________________________________________________\n",
      "dropout_3 (Dropout)          (None, 2048)              0         \n",
      "_________________________________________________________________\n",
      "dense2048-512 (Dense)        (None, 512)               1049088   \n",
      "_________________________________________________________________\n",
      "dropout_4 (Dropout)          (None, 512)               0         \n",
      "_________________________________________________________________\n",
      "dense512-128 (Dense)         (None, 128)               65664     \n",
      "_________________________________________________________________\n",
      "out (Dense)                  (None, 14)                1806      \n",
      "=================================================================\n",
      "Total params: 21,978,038\n",
      "Trainable params: 1,116,558\n",
      "Non-trainable params: 20,861,480\n",
      "_________________________________________________________________\n"
     ]
    }
   ],
   "source": [
    "model.summary()"
   ]
  },
  {
   "cell_type": "code",
   "execution_count": 15,
   "metadata": {},
   "outputs": [],
   "source": [
    "from keras import backend as K\n",
    "def f1(y_true, y_pred):\n",
    "    def recall(y_true, y_pred):\n",
    "        \"\"\"Recall metric.\n",
    "\n",
    "        Only computes a batch-wise average of recall.\n",
    "\n",
    "        Computes the recall, a metric for multi-label classification of\n",
    "        how many relevant items are selected.\n",
    "        \"\"\"\n",
    "        true_positives = K.sum(K.round(K.clip(y_true * y_pred, 0, 1)))\n",
    "        possible_positives = K.sum(K.round(K.clip(y_true, 0, 1)))\n",
    "        recall = true_positives / (possible_positives + K.epsilon())\n",
    "        return recall\n",
    "\n",
    "    def precision(y_true, y_pred):\n",
    "        \"\"\"Precision metric.\n",
    "\n",
    "        Only computes a batch-wise average of precision.\n",
    "\n",
    "        Computes the precision, a metric for multi-label classification of\n",
    "        how many selected items are relevant.\n",
    "        \"\"\"\n",
    "        true_positives = K.sum(K.round(K.clip(y_true * y_pred, 0, 1)))\n",
    "        predicted_positives = K.sum(K.round(K.clip(y_pred, 0, 1)))\n",
    "        precision = true_positives / (predicted_positives + K.epsilon())\n",
    "        return precision\n",
    "    precision = precision(y_true, y_pred)\n",
    "    recall = recall(y_true, y_pred)\n",
    "    return 2*((precision*recall)/(precision+recall+K.epsilon()))"
   ]
  },
  {
   "cell_type": "code",
   "execution_count": 16,
   "metadata": {},
   "outputs": [],
   "source": [
    "from keras.losses import categorical_crossentropy\n",
    "\n",
    "model.compile(loss=categorical_crossentropy,\n",
    "              optimizer=sgd,\n",
    "              metrics=['accuracy',f1])\n"
   ]
  },
  {
   "cell_type": "code",
   "execution_count": 17,
   "metadata": {},
   "outputs": [
    {
     "name": "stdout",
     "output_type": "stream",
     "text": [
      "---model weights load successfull---\n",
      "Epoch 1/50\n",
      "1102/1102 [==============================] - 991s 899ms/step - loss: 1.0650 - acc: 0.7122 - f1: 0.7086 - val_loss: 1.3233 - val_acc: 0.6875 - val_f1: 0.6898\n",
      "Epoch 2/50\n",
      "1102/1102 [==============================] - 986s 895ms/step - loss: 1.0383 - acc: 0.7141 - f1: 0.7138 - val_loss: 1.2649 - val_acc: 0.7292 - val_f1: 0.7267\n",
      "Epoch 3/50\n",
      "1102/1102 [==============================] - 979s 889ms/step - loss: 1.0125 - acc: 0.7191 - f1: 0.7155 - val_loss: 0.9892 - val_acc: 0.7708 - val_f1: 0.7908\n",
      "Epoch 4/50\n",
      "1102/1102 [==============================] - 973s 883ms/step - loss: 0.9838 - acc: 0.7220 - f1: 0.7240 - val_loss: 1.2112 - val_acc: 0.7083 - val_f1: 0.7104\n",
      "Epoch 5/50\n",
      "1102/1102 [==============================] - 972s 882ms/step - loss: 0.9548 - acc: 0.7311 - f1: 0.7322 - val_loss: 1.2483 - val_acc: 0.6771 - val_f1: 0.6638\n",
      "Epoch 6/50\n",
      "1102/1102 [==============================] - 981s 890ms/step - loss: 0.9562 - acc: 0.7273 - f1: 0.7310 - val_loss: 1.3043 - val_acc: 0.6771 - val_f1: 0.6763\n",
      "Epoch 7/50\n",
      "1102/1102 [==============================] - 985s 894ms/step - loss: 0.9581 - acc: 0.7293 - f1: 0.7289 - val_loss: 1.4921 - val_acc: 0.6979 - val_f1: 0.6846\n",
      "Epoch 8/50\n",
      "1102/1102 [==============================] - 982s 891ms/step - loss: 0.9366 - acc: 0.7312 - f1: 0.7353 - val_loss: 0.9703 - val_acc: 0.7396 - val_f1: 0.7533\n",
      "Epoch 9/50\n",
      "1102/1102 [==============================] - 983s 892ms/step - loss: 0.9270 - acc: 0.7345 - f1: 0.7349 - val_loss: 0.9582 - val_acc: 0.7500 - val_f1: 0.7321\n",
      "Epoch 10/50\n",
      "1102/1102 [==============================] - 982s 891ms/step - loss: 0.9030 - acc: 0.7406 - f1: 0.7426 - val_loss: 1.3663 - val_acc: 0.6458 - val_f1: 0.6543\n",
      "Epoch 11/50\n",
      "1102/1102 [==============================] - 830s 753ms/step - loss: 0.9061 - acc: 0.7362 - f1: 0.7405 - val_loss: 1.4641 - val_acc: 0.6875 - val_f1: 0.7006\n",
      "Epoch 12/50\n",
      "1102/1102 [==============================] - 830s 753ms/step - loss: 0.8927 - acc: 0.7477 - f1: 0.7473 - val_loss: 1.3255 - val_acc: 0.6667 - val_f1: 0.6706\n",
      "Epoch 13/50\n",
      "1102/1102 [==============================] - 837s 759ms/step - loss: 0.9092 - acc: 0.7371 - f1: 0.7382 - val_loss: 1.0388 - val_acc: 0.7292 - val_f1: 0.7243\n",
      "Epoch 14/50\n",
      "1102/1102 [==============================] - 848s 770ms/step - loss: 0.9042 - acc: 0.7406 - f1: 0.7422 - val_loss: 1.1092 - val_acc: 0.6979 - val_f1: 0.7132\n",
      "Epoch 15/50\n",
      "1102/1102 [==============================] - 861s 781ms/step - loss: 0.9025 - acc: 0.7335 - f1: 0.7397 - val_loss: 0.9735 - val_acc: 0.7708 - val_f1: 0.7760\n",
      "Epoch 16/50\n",
      "1102/1102 [==============================] - 883s 802ms/step - loss: 0.9080 - acc: 0.7371 - f1: 0.7398 - val_loss: 1.1228 - val_acc: 0.6875 - val_f1: 0.7162\n",
      "CPU times: user 3h 32min 57s, sys: 6min, total: 3h 38min 57s\n",
      "Wall time: 4h 8min 25s\n"
     ]
    }
   ],
   "source": [
    "%%time\n",
    "# Train model\n",
    "nb_epochs=50\n",
    "model.load_weights(log_dir+'/best-model.hdf5')\n",
    "print('---model weights load successfull---')\n",
    "history = model.fit_generator(\n",
    "            train_gen,\n",
    "            steps_per_epoch = (train_gen.samples // batch_size)//10,\n",
    "#           steps_per_epoch = 100,\n",
    "            validation_data = val_gen, \n",
    "            validation_steps = (val_gen.samples // batch_size)//200,\n",
    "#           validation_steps = 50,\n",
    "            epochs = nb_epochs,\n",
    "            callbacks=[modelcheck,csvlog,earstop],\n",
    "            verbose=1)"
   ]
  },
  {
   "cell_type": "code",
   "execution_count": 69,
   "metadata": {},
   "outputs": [
    {
     "name": "stdout",
     "output_type": "stream",
     "text": [
      "Found 153730 images.\n",
      "CPU times: user 683 ms, sys: 324 ms, total: 1.01 s\n",
      "Wall time: 1.26 s\n"
     ]
    }
   ],
   "source": [
    "%%time\n",
    "test_datagen = ImageDataGenerator(rescale=1./255)\n",
    "test_generator = test_datagen.flow_from_dataframe(\n",
    "        dataframe = test_df,        \n",
    "        directory = test_images_dir,\n",
    "        x_col = 'file_name', y_col = None,\n",
    "        target_size = (img_h,img_w),\n",
    "        batch_size = 10,\n",
    "        shuffle = False,\n",
    "        class_mode = None\n",
    "        )\n"
   ]
  },
  {
   "cell_type": "code",
   "execution_count": null,
   "metadata": {},
   "outputs": [
    {
     "name": "stdout",
     "output_type": "stream",
     "text": [
      "  338/15373 [..............................] - ETA: 1:31:25"
     ]
    }
   ],
   "source": [
    "%%time\n",
    "test_generator.reset()\n",
    "predict = model.predict_generator(test_generator, steps = len(test_generator.filenames)/10,verbose=1)\n"
   ]
  },
  {
   "cell_type": "code",
   "execution_count": null,
   "metadata": {},
   "outputs": [],
   "source": [
    "predicted_class_indices=np.argmax(predict,axis=1)"
   ]
  },
  {
   "cell_type": "code",
   "execution_count": null,
   "metadata": {},
   "outputs": [],
   "source": [
    "labels = (train_gen.class_indices)\n",
    "labels = dict((v,k) for k,v in labels.items())\n",
    "predictions = [labels[k] for k in predicted_class_indices]\n"
   ]
  },
  {
   "cell_type": "code",
   "execution_count": null,
   "metadata": {},
   "outputs": [],
   "source": [
    "sam_sub_df = pd.read_csv(dataset_dir+'/sample_submission.csv')\n",
    "print(sam_sub_df.shape)\n",
    "sam_sub_df.head()"
   ]
  },
  {
   "cell_type": "code",
   "execution_count": null,
   "metadata": {},
   "outputs": [],
   "source": [
    "filenames=test_generator.filenames\n",
    "results=pd.DataFrame({\"Id\":filenames,\n",
    "                      \"Predicted\":predictions})\n",
    "s=time.strftime(\"%Y-%m-%d-%H-%M-%S\", time.localtime()) \n",
    "results['Id'] = results['Id'].map(lambda x: str(x)[:-4])\n",
    "results.to_csv(model_dir+'/'+s+\"results.csv\",index=False)"
   ]
  },
  {
   "cell_type": "code",
   "execution_count": null,
   "metadata": {},
   "outputs": [],
   "source": []
  },
  {
   "cell_type": "code",
   "execution_count": null,
   "metadata": {},
   "outputs": [],
   "source": []
  },
  {
   "cell_type": "code",
   "execution_count": null,
   "metadata": {},
   "outputs": [],
   "source": []
  }
 ],
 "metadata": {
  "kernelspec": {
   "display_name": "Python 3",
   "language": "python",
   "name": "python3"
  },
  "language_info": {
   "codemirror_mode": {
    "name": "ipython",
    "version": 3
   },
   "file_extension": ".py",
   "mimetype": "text/x-python",
   "name": "python",
   "nbconvert_exporter": "python",
   "pygments_lexer": "ipython3",
   "version": "3.6.7"
  }
 },
 "nbformat": 4,
 "nbformat_minor": 1
}
